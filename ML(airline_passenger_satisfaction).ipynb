{
 "cells": [
  {
   "cell_type": "code",
   "execution_count": 1,
   "metadata": {},
   "outputs": [],
   "source": [
    "#Import all necessary modules \n",
    "import numpy as  np\n",
    "import pandas as pd\n",
    "import matplotlib.pyplot as plt\n",
    "import seaborn as sb"
   ]
  },
  {
   "cell_type": "code",
   "execution_count": 2,
   "metadata": {},
   "outputs": [],
   "source": [
    "#load dataset\n",
    "df=pd.read_csv('airline_passenger_satisfaction.csv')"
   ]
  },
  {
   "cell_type": "code",
   "execution_count": 3,
   "metadata": {},
   "outputs": [
    {
     "data": {
      "text/html": [
       "<div>\n",
       "<style scoped>\n",
       "    .dataframe tbody tr th:only-of-type {\n",
       "        vertical-align: middle;\n",
       "    }\n",
       "\n",
       "    .dataframe tbody tr th {\n",
       "        vertical-align: top;\n",
       "    }\n",
       "\n",
       "    .dataframe thead th {\n",
       "        text-align: right;\n",
       "    }\n",
       "</style>\n",
       "<table border=\"1\" class=\"dataframe\">\n",
       "  <thead>\n",
       "    <tr style=\"text-align: right;\">\n",
       "      <th></th>\n",
       "      <th>ID</th>\n",
       "      <th>Gender</th>\n",
       "      <th>Age</th>\n",
       "      <th>Customer Type</th>\n",
       "      <th>Type of Travel</th>\n",
       "      <th>Class</th>\n",
       "      <th>Flight Distance</th>\n",
       "      <th>Departure Delay</th>\n",
       "      <th>Arrival Delay</th>\n",
       "      <th>Departure and Arrival Time Convenience</th>\n",
       "      <th>...</th>\n",
       "      <th>On-board Service</th>\n",
       "      <th>Seat Comfort</th>\n",
       "      <th>Leg Room Service</th>\n",
       "      <th>Cleanliness</th>\n",
       "      <th>Food and Drink</th>\n",
       "      <th>In-flight Service</th>\n",
       "      <th>In-flight Wifi Service</th>\n",
       "      <th>In-flight Entertainment</th>\n",
       "      <th>Baggage Handling</th>\n",
       "      <th>Satisfaction</th>\n",
       "    </tr>\n",
       "  </thead>\n",
       "  <tbody>\n",
       "    <tr>\n",
       "      <th>0</th>\n",
       "      <td>1</td>\n",
       "      <td>Male</td>\n",
       "      <td>48</td>\n",
       "      <td>First-time</td>\n",
       "      <td>Business</td>\n",
       "      <td>Business</td>\n",
       "      <td>821</td>\n",
       "      <td>2</td>\n",
       "      <td>5.0</td>\n",
       "      <td>3</td>\n",
       "      <td>...</td>\n",
       "      <td>3</td>\n",
       "      <td>5</td>\n",
       "      <td>2</td>\n",
       "      <td>5</td>\n",
       "      <td>5</td>\n",
       "      <td>5</td>\n",
       "      <td>3</td>\n",
       "      <td>5</td>\n",
       "      <td>5</td>\n",
       "      <td>Neutral or Dissatisfied</td>\n",
       "    </tr>\n",
       "    <tr>\n",
       "      <th>1</th>\n",
       "      <td>2</td>\n",
       "      <td>Female</td>\n",
       "      <td>35</td>\n",
       "      <td>Returning</td>\n",
       "      <td>Business</td>\n",
       "      <td>Business</td>\n",
       "      <td>821</td>\n",
       "      <td>26</td>\n",
       "      <td>39.0</td>\n",
       "      <td>2</td>\n",
       "      <td>...</td>\n",
       "      <td>5</td>\n",
       "      <td>4</td>\n",
       "      <td>5</td>\n",
       "      <td>5</td>\n",
       "      <td>3</td>\n",
       "      <td>5</td>\n",
       "      <td>2</td>\n",
       "      <td>5</td>\n",
       "      <td>5</td>\n",
       "      <td>Satisfied</td>\n",
       "    </tr>\n",
       "    <tr>\n",
       "      <th>2</th>\n",
       "      <td>3</td>\n",
       "      <td>Male</td>\n",
       "      <td>41</td>\n",
       "      <td>Returning</td>\n",
       "      <td>Business</td>\n",
       "      <td>Business</td>\n",
       "      <td>853</td>\n",
       "      <td>0</td>\n",
       "      <td>0.0</td>\n",
       "      <td>4</td>\n",
       "      <td>...</td>\n",
       "      <td>3</td>\n",
       "      <td>5</td>\n",
       "      <td>3</td>\n",
       "      <td>5</td>\n",
       "      <td>5</td>\n",
       "      <td>3</td>\n",
       "      <td>4</td>\n",
       "      <td>3</td>\n",
       "      <td>3</td>\n",
       "      <td>Satisfied</td>\n",
       "    </tr>\n",
       "    <tr>\n",
       "      <th>3</th>\n",
       "      <td>4</td>\n",
       "      <td>Male</td>\n",
       "      <td>50</td>\n",
       "      <td>Returning</td>\n",
       "      <td>Business</td>\n",
       "      <td>Business</td>\n",
       "      <td>1905</td>\n",
       "      <td>0</td>\n",
       "      <td>0.0</td>\n",
       "      <td>2</td>\n",
       "      <td>...</td>\n",
       "      <td>5</td>\n",
       "      <td>5</td>\n",
       "      <td>5</td>\n",
       "      <td>4</td>\n",
       "      <td>4</td>\n",
       "      <td>5</td>\n",
       "      <td>2</td>\n",
       "      <td>5</td>\n",
       "      <td>5</td>\n",
       "      <td>Satisfied</td>\n",
       "    </tr>\n",
       "    <tr>\n",
       "      <th>4</th>\n",
       "      <td>5</td>\n",
       "      <td>Female</td>\n",
       "      <td>49</td>\n",
       "      <td>Returning</td>\n",
       "      <td>Business</td>\n",
       "      <td>Business</td>\n",
       "      <td>3470</td>\n",
       "      <td>0</td>\n",
       "      <td>1.0</td>\n",
       "      <td>3</td>\n",
       "      <td>...</td>\n",
       "      <td>3</td>\n",
       "      <td>4</td>\n",
       "      <td>4</td>\n",
       "      <td>5</td>\n",
       "      <td>4</td>\n",
       "      <td>3</td>\n",
       "      <td>3</td>\n",
       "      <td>3</td>\n",
       "      <td>3</td>\n",
       "      <td>Satisfied</td>\n",
       "    </tr>\n",
       "  </tbody>\n",
       "</table>\n",
       "<p>5 rows × 24 columns</p>\n",
       "</div>"
      ],
      "text/plain": [
       "   ID  Gender  Age Customer Type Type of Travel     Class  Flight Distance  \\\n",
       "0   1    Male   48    First-time       Business  Business              821   \n",
       "1   2  Female   35     Returning       Business  Business              821   \n",
       "2   3    Male   41     Returning       Business  Business              853   \n",
       "3   4    Male   50     Returning       Business  Business             1905   \n",
       "4   5  Female   49     Returning       Business  Business             3470   \n",
       "\n",
       "   Departure Delay  Arrival Delay  Departure and Arrival Time Convenience  \\\n",
       "0                2            5.0                                       3   \n",
       "1               26           39.0                                       2   \n",
       "2                0            0.0                                       4   \n",
       "3                0            0.0                                       2   \n",
       "4                0            1.0                                       3   \n",
       "\n",
       "   ...  On-board Service  Seat Comfort  Leg Room Service  Cleanliness  \\\n",
       "0  ...                 3             5                 2            5   \n",
       "1  ...                 5             4                 5            5   \n",
       "2  ...                 3             5                 3            5   \n",
       "3  ...                 5             5                 5            4   \n",
       "4  ...                 3             4                 4            5   \n",
       "\n",
       "   Food and Drink  In-flight Service  In-flight Wifi Service  \\\n",
       "0               5                  5                       3   \n",
       "1               3                  5                       2   \n",
       "2               5                  3                       4   \n",
       "3               4                  5                       2   \n",
       "4               4                  3                       3   \n",
       "\n",
       "   In-flight Entertainment  Baggage Handling             Satisfaction  \n",
       "0                        5                 5  Neutral or Dissatisfied  \n",
       "1                        5                 5                Satisfied  \n",
       "2                        3                 3                Satisfied  \n",
       "3                        5                 5                Satisfied  \n",
       "4                        3                 3                Satisfied  \n",
       "\n",
       "[5 rows x 24 columns]"
      ]
     },
     "execution_count": 3,
     "metadata": {},
     "output_type": "execute_result"
    }
   ],
   "source": [
    "df.head()"
   ]
  },
  {
   "cell_type": "markdown",
   "metadata": {},
   "source": [
    "# Pre-processing part"
   ]
  },
  {
   "cell_type": "code",
   "execution_count": 4,
   "metadata": {},
   "outputs": [],
   "source": [
    "#drop unnecessary column ie ID\n",
    "df.drop('ID',axis=1,inplace=True)"
   ]
  },
  {
   "cell_type": "code",
   "execution_count": 5,
   "metadata": {},
   "outputs": [
    {
     "data": {
      "text/plain": [
       "Gender                                      0\n",
       "Age                                         0\n",
       "Customer Type                               0\n",
       "Type of Travel                              0\n",
       "Class                                       0\n",
       "Flight Distance                             0\n",
       "Departure Delay                             0\n",
       "Arrival Delay                             393\n",
       "Departure and Arrival Time Convenience      0\n",
       "Ease of Online Booking                      0\n",
       "Check-in Service                            0\n",
       "Online Boarding                             0\n",
       "Gate Location                               0\n",
       "On-board Service                            0\n",
       "Seat Comfort                                0\n",
       "Leg Room Service                            0\n",
       "Cleanliness                                 0\n",
       "Food and Drink                              0\n",
       "In-flight Service                           0\n",
       "In-flight Wifi Service                      0\n",
       "In-flight Entertainment                     0\n",
       "Baggage Handling                            0\n",
       "Satisfaction                                0\n",
       "dtype: int64"
      ]
     },
     "execution_count": 5,
     "metadata": {},
     "output_type": "execute_result"
    }
   ],
   "source": [
    "#check for null values\n",
    "df.isnull().sum()"
   ]
  },
  {
   "cell_type": "code",
   "execution_count": 6,
   "metadata": {},
   "outputs": [],
   "source": [
    "# fill null values of Arrival Delay with mean of that column\n",
    "m=df['Arrival Delay'].mean()\n",
    "df['Arrival Delay'].fillna(m,inplace=True)"
   ]
  },
  {
   "cell_type": "code",
   "execution_count": 7,
   "metadata": {},
   "outputs": [
    {
     "data": {
      "text/plain": [
       "Gender                                    0\n",
       "Age                                       0\n",
       "Customer Type                             0\n",
       "Type of Travel                            0\n",
       "Class                                     0\n",
       "Flight Distance                           0\n",
       "Departure Delay                           0\n",
       "Arrival Delay                             0\n",
       "Departure and Arrival Time Convenience    0\n",
       "Ease of Online Booking                    0\n",
       "Check-in Service                          0\n",
       "Online Boarding                           0\n",
       "Gate Location                             0\n",
       "On-board Service                          0\n",
       "Seat Comfort                              0\n",
       "Leg Room Service                          0\n",
       "Cleanliness                               0\n",
       "Food and Drink                            0\n",
       "In-flight Service                         0\n",
       "In-flight Wifi Service                    0\n",
       "In-flight Entertainment                   0\n",
       "Baggage Handling                          0\n",
       "Satisfaction                              0\n",
       "dtype: int64"
      ]
     },
     "execution_count": 7,
     "metadata": {},
     "output_type": "execute_result"
    }
   ],
   "source": [
    "#cross check\n",
    "df.isnull().sum()"
   ]
  },
  {
   "cell_type": "code",
   "execution_count": 8,
   "metadata": {},
   "outputs": [
    {
     "data": {
      "text/plain": [
       "0"
      ]
     },
     "execution_count": 8,
     "metadata": {},
     "output_type": "execute_result"
    }
   ],
   "source": [
    "#check for duplicate values\n",
    "df.duplicated().sum()"
   ]
  },
  {
   "cell_type": "code",
   "execution_count": 9,
   "metadata": {},
   "outputs": [
    {
     "data": {
      "text/plain": [
       "Gender                                     object\n",
       "Age                                         int64\n",
       "Customer Type                              object\n",
       "Type of Travel                             object\n",
       "Class                                      object\n",
       "Flight Distance                             int64\n",
       "Departure Delay                             int64\n",
       "Arrival Delay                             float64\n",
       "Departure and Arrival Time Convenience      int64\n",
       "Ease of Online Booking                      int64\n",
       "Check-in Service                            int64\n",
       "Online Boarding                             int64\n",
       "Gate Location                               int64\n",
       "On-board Service                            int64\n",
       "Seat Comfort                                int64\n",
       "Leg Room Service                            int64\n",
       "Cleanliness                                 int64\n",
       "Food and Drink                              int64\n",
       "In-flight Service                           int64\n",
       "In-flight Wifi Service                      int64\n",
       "In-flight Entertainment                     int64\n",
       "Baggage Handling                            int64\n",
       "Satisfaction                               object\n",
       "dtype: object"
      ]
     },
     "execution_count": 9,
     "metadata": {},
     "output_type": "execute_result"
    }
   ],
   "source": [
    "#check for datatypes\n",
    "df.dtypes"
   ]
  },
  {
   "cell_type": "code",
   "execution_count": 10,
   "metadata": {},
   "outputs": [],
   "source": [
    "#we need to convert datatype of column into numerical type of column by applyng Label Encoder\n",
    "from sklearn.preprocessing import LabelEncoder"
   ]
  },
  {
   "cell_type": "code",
   "execution_count": 11,
   "metadata": {},
   "outputs": [],
   "source": [
    "#seperate object type and integer type data\n",
    "df_cat=df.select_dtypes('object')\n",
    "df_num=df.select_dtypes(['int64','float64'])"
   ]
  },
  {
   "cell_type": "code",
   "execution_count": 12,
   "metadata": {},
   "outputs": [
    {
     "data": {
      "text/plain": [
       "Index(['Gender', 'Customer Type', 'Type of Travel', 'Class', 'Satisfaction'], dtype='object')"
      ]
     },
     "execution_count": 12,
     "metadata": {},
     "output_type": "execute_result"
    }
   ],
   "source": [
    "df_cat.columns"
   ]
  },
  {
   "cell_type": "code",
   "execution_count": 13,
   "metadata": {},
   "outputs": [
    {
     "name": "stderr",
     "output_type": "stream",
     "text": [
      "<ipython-input-13-a78ac8d4186b>:4: SettingWithCopyWarning: \n",
      "A value is trying to be set on a copy of a slice from a DataFrame.\n",
      "Try using .loc[row_indexer,col_indexer] = value instead\n",
      "\n",
      "See the caveats in the documentation: https://pandas.pydata.org/pandas-docs/stable/user_guide/indexing.html#returning-a-view-versus-a-copy\n",
      "  df_cat[col]=le.fit_transform(df[col])\n"
     ]
    }
   ],
   "source": [
    "columns=df_cat.columns\n",
    "for col in columns:\n",
    "    le=LabelEncoder()\n",
    "    df_cat[col]=le.fit_transform(df[col])"
   ]
  },
  {
   "cell_type": "code",
   "execution_count": 14,
   "metadata": {},
   "outputs": [
    {
     "data": {
      "text/html": [
       "<div>\n",
       "<style scoped>\n",
       "    .dataframe tbody tr th:only-of-type {\n",
       "        vertical-align: middle;\n",
       "    }\n",
       "\n",
       "    .dataframe tbody tr th {\n",
       "        vertical-align: top;\n",
       "    }\n",
       "\n",
       "    .dataframe thead th {\n",
       "        text-align: right;\n",
       "    }\n",
       "</style>\n",
       "<table border=\"1\" class=\"dataframe\">\n",
       "  <thead>\n",
       "    <tr style=\"text-align: right;\">\n",
       "      <th></th>\n",
       "      <th>Gender</th>\n",
       "      <th>Customer Type</th>\n",
       "      <th>Type of Travel</th>\n",
       "      <th>Class</th>\n",
       "      <th>Satisfaction</th>\n",
       "    </tr>\n",
       "  </thead>\n",
       "  <tbody>\n",
       "    <tr>\n",
       "      <th>0</th>\n",
       "      <td>1</td>\n",
       "      <td>0</td>\n",
       "      <td>0</td>\n",
       "      <td>0</td>\n",
       "      <td>0</td>\n",
       "    </tr>\n",
       "    <tr>\n",
       "      <th>1</th>\n",
       "      <td>0</td>\n",
       "      <td>1</td>\n",
       "      <td>0</td>\n",
       "      <td>0</td>\n",
       "      <td>1</td>\n",
       "    </tr>\n",
       "    <tr>\n",
       "      <th>2</th>\n",
       "      <td>1</td>\n",
       "      <td>1</td>\n",
       "      <td>0</td>\n",
       "      <td>0</td>\n",
       "      <td>1</td>\n",
       "    </tr>\n",
       "    <tr>\n",
       "      <th>3</th>\n",
       "      <td>1</td>\n",
       "      <td>1</td>\n",
       "      <td>0</td>\n",
       "      <td>0</td>\n",
       "      <td>1</td>\n",
       "    </tr>\n",
       "    <tr>\n",
       "      <th>4</th>\n",
       "      <td>0</td>\n",
       "      <td>1</td>\n",
       "      <td>0</td>\n",
       "      <td>0</td>\n",
       "      <td>1</td>\n",
       "    </tr>\n",
       "    <tr>\n",
       "      <th>...</th>\n",
       "      <td>...</td>\n",
       "      <td>...</td>\n",
       "      <td>...</td>\n",
       "      <td>...</td>\n",
       "      <td>...</td>\n",
       "    </tr>\n",
       "    <tr>\n",
       "      <th>129875</th>\n",
       "      <td>1</td>\n",
       "      <td>1</td>\n",
       "      <td>1</td>\n",
       "      <td>2</td>\n",
       "      <td>0</td>\n",
       "    </tr>\n",
       "    <tr>\n",
       "      <th>129876</th>\n",
       "      <td>1</td>\n",
       "      <td>1</td>\n",
       "      <td>1</td>\n",
       "      <td>2</td>\n",
       "      <td>0</td>\n",
       "    </tr>\n",
       "    <tr>\n",
       "      <th>129877</th>\n",
       "      <td>1</td>\n",
       "      <td>1</td>\n",
       "      <td>1</td>\n",
       "      <td>2</td>\n",
       "      <td>0</td>\n",
       "    </tr>\n",
       "    <tr>\n",
       "      <th>129878</th>\n",
       "      <td>1</td>\n",
       "      <td>1</td>\n",
       "      <td>1</td>\n",
       "      <td>2</td>\n",
       "      <td>1</td>\n",
       "    </tr>\n",
       "    <tr>\n",
       "      <th>129879</th>\n",
       "      <td>0</td>\n",
       "      <td>1</td>\n",
       "      <td>1</td>\n",
       "      <td>2</td>\n",
       "      <td>0</td>\n",
       "    </tr>\n",
       "  </tbody>\n",
       "</table>\n",
       "<p>129880 rows × 5 columns</p>\n",
       "</div>"
      ],
      "text/plain": [
       "        Gender  Customer Type  Type of Travel  Class  Satisfaction\n",
       "0            1              0               0      0             0\n",
       "1            0              1               0      0             1\n",
       "2            1              1               0      0             1\n",
       "3            1              1               0      0             1\n",
       "4            0              1               0      0             1\n",
       "...        ...            ...             ...    ...           ...\n",
       "129875       1              1               1      2             0\n",
       "129876       1              1               1      2             0\n",
       "129877       1              1               1      2             0\n",
       "129878       1              1               1      2             1\n",
       "129879       0              1               1      2             0\n",
       "\n",
       "[129880 rows x 5 columns]"
      ]
     },
     "execution_count": 14,
     "metadata": {},
     "output_type": "execute_result"
    }
   ],
   "source": [
    "#cross check\n",
    "df_cat"
   ]
  },
  {
   "cell_type": "code",
   "execution_count": 15,
   "metadata": {},
   "outputs": [],
   "source": [
    "#merg both type of set\n",
    "df_new=pd.concat([df_cat,df_num],axis=1)"
   ]
  },
  {
   "cell_type": "code",
   "execution_count": 16,
   "metadata": {},
   "outputs": [
    {
     "data": {
      "text/html": [
       "<div>\n",
       "<style scoped>\n",
       "    .dataframe tbody tr th:only-of-type {\n",
       "        vertical-align: middle;\n",
       "    }\n",
       "\n",
       "    .dataframe tbody tr th {\n",
       "        vertical-align: top;\n",
       "    }\n",
       "\n",
       "    .dataframe thead th {\n",
       "        text-align: right;\n",
       "    }\n",
       "</style>\n",
       "<table border=\"1\" class=\"dataframe\">\n",
       "  <thead>\n",
       "    <tr style=\"text-align: right;\">\n",
       "      <th></th>\n",
       "      <th>Gender</th>\n",
       "      <th>Customer Type</th>\n",
       "      <th>Type of Travel</th>\n",
       "      <th>Class</th>\n",
       "      <th>Satisfaction</th>\n",
       "      <th>Age</th>\n",
       "      <th>Flight Distance</th>\n",
       "      <th>Departure Delay</th>\n",
       "      <th>Arrival Delay</th>\n",
       "      <th>Departure and Arrival Time Convenience</th>\n",
       "      <th>...</th>\n",
       "      <th>Gate Location</th>\n",
       "      <th>On-board Service</th>\n",
       "      <th>Seat Comfort</th>\n",
       "      <th>Leg Room Service</th>\n",
       "      <th>Cleanliness</th>\n",
       "      <th>Food and Drink</th>\n",
       "      <th>In-flight Service</th>\n",
       "      <th>In-flight Wifi Service</th>\n",
       "      <th>In-flight Entertainment</th>\n",
       "      <th>Baggage Handling</th>\n",
       "    </tr>\n",
       "  </thead>\n",
       "  <tbody>\n",
       "    <tr>\n",
       "      <th>0</th>\n",
       "      <td>1</td>\n",
       "      <td>0</td>\n",
       "      <td>0</td>\n",
       "      <td>0</td>\n",
       "      <td>0</td>\n",
       "      <td>48</td>\n",
       "      <td>821</td>\n",
       "      <td>2</td>\n",
       "      <td>5.0</td>\n",
       "      <td>3</td>\n",
       "      <td>...</td>\n",
       "      <td>3</td>\n",
       "      <td>3</td>\n",
       "      <td>5</td>\n",
       "      <td>2</td>\n",
       "      <td>5</td>\n",
       "      <td>5</td>\n",
       "      <td>5</td>\n",
       "      <td>3</td>\n",
       "      <td>5</td>\n",
       "      <td>5</td>\n",
       "    </tr>\n",
       "    <tr>\n",
       "      <th>1</th>\n",
       "      <td>0</td>\n",
       "      <td>1</td>\n",
       "      <td>0</td>\n",
       "      <td>0</td>\n",
       "      <td>1</td>\n",
       "      <td>35</td>\n",
       "      <td>821</td>\n",
       "      <td>26</td>\n",
       "      <td>39.0</td>\n",
       "      <td>2</td>\n",
       "      <td>...</td>\n",
       "      <td>2</td>\n",
       "      <td>5</td>\n",
       "      <td>4</td>\n",
       "      <td>5</td>\n",
       "      <td>5</td>\n",
       "      <td>3</td>\n",
       "      <td>5</td>\n",
       "      <td>2</td>\n",
       "      <td>5</td>\n",
       "      <td>5</td>\n",
       "    </tr>\n",
       "    <tr>\n",
       "      <th>2</th>\n",
       "      <td>1</td>\n",
       "      <td>1</td>\n",
       "      <td>0</td>\n",
       "      <td>0</td>\n",
       "      <td>1</td>\n",
       "      <td>41</td>\n",
       "      <td>853</td>\n",
       "      <td>0</td>\n",
       "      <td>0.0</td>\n",
       "      <td>4</td>\n",
       "      <td>...</td>\n",
       "      <td>4</td>\n",
       "      <td>3</td>\n",
       "      <td>5</td>\n",
       "      <td>3</td>\n",
       "      <td>5</td>\n",
       "      <td>5</td>\n",
       "      <td>3</td>\n",
       "      <td>4</td>\n",
       "      <td>3</td>\n",
       "      <td>3</td>\n",
       "    </tr>\n",
       "    <tr>\n",
       "      <th>3</th>\n",
       "      <td>1</td>\n",
       "      <td>1</td>\n",
       "      <td>0</td>\n",
       "      <td>0</td>\n",
       "      <td>1</td>\n",
       "      <td>50</td>\n",
       "      <td>1905</td>\n",
       "      <td>0</td>\n",
       "      <td>0.0</td>\n",
       "      <td>2</td>\n",
       "      <td>...</td>\n",
       "      <td>2</td>\n",
       "      <td>5</td>\n",
       "      <td>5</td>\n",
       "      <td>5</td>\n",
       "      <td>4</td>\n",
       "      <td>4</td>\n",
       "      <td>5</td>\n",
       "      <td>2</td>\n",
       "      <td>5</td>\n",
       "      <td>5</td>\n",
       "    </tr>\n",
       "    <tr>\n",
       "      <th>4</th>\n",
       "      <td>0</td>\n",
       "      <td>1</td>\n",
       "      <td>0</td>\n",
       "      <td>0</td>\n",
       "      <td>1</td>\n",
       "      <td>49</td>\n",
       "      <td>3470</td>\n",
       "      <td>0</td>\n",
       "      <td>1.0</td>\n",
       "      <td>3</td>\n",
       "      <td>...</td>\n",
       "      <td>3</td>\n",
       "      <td>3</td>\n",
       "      <td>4</td>\n",
       "      <td>4</td>\n",
       "      <td>5</td>\n",
       "      <td>4</td>\n",
       "      <td>3</td>\n",
       "      <td>3</td>\n",
       "      <td>3</td>\n",
       "      <td>3</td>\n",
       "    </tr>\n",
       "  </tbody>\n",
       "</table>\n",
       "<p>5 rows × 23 columns</p>\n",
       "</div>"
      ],
      "text/plain": [
       "   Gender  Customer Type  Type of Travel  Class  Satisfaction  Age  \\\n",
       "0       1              0               0      0             0   48   \n",
       "1       0              1               0      0             1   35   \n",
       "2       1              1               0      0             1   41   \n",
       "3       1              1               0      0             1   50   \n",
       "4       0              1               0      0             1   49   \n",
       "\n",
       "   Flight Distance  Departure Delay  Arrival Delay  \\\n",
       "0              821                2            5.0   \n",
       "1              821               26           39.0   \n",
       "2              853                0            0.0   \n",
       "3             1905                0            0.0   \n",
       "4             3470                0            1.0   \n",
       "\n",
       "   Departure and Arrival Time Convenience  ...  Gate Location  \\\n",
       "0                                       3  ...              3   \n",
       "1                                       2  ...              2   \n",
       "2                                       4  ...              4   \n",
       "3                                       2  ...              2   \n",
       "4                                       3  ...              3   \n",
       "\n",
       "   On-board Service  Seat Comfort  Leg Room Service  Cleanliness  \\\n",
       "0                 3             5                 2            5   \n",
       "1                 5             4                 5            5   \n",
       "2                 3             5                 3            5   \n",
       "3                 5             5                 5            4   \n",
       "4                 3             4                 4            5   \n",
       "\n",
       "   Food and Drink  In-flight Service  In-flight Wifi Service  \\\n",
       "0               5                  5                       3   \n",
       "1               3                  5                       2   \n",
       "2               5                  3                       4   \n",
       "3               4                  5                       2   \n",
       "4               4                  3                       3   \n",
       "\n",
       "   In-flight Entertainment  Baggage Handling  \n",
       "0                        5                 5  \n",
       "1                        5                 5  \n",
       "2                        3                 3  \n",
       "3                        5                 5  \n",
       "4                        3                 3  \n",
       "\n",
       "[5 rows x 23 columns]"
      ]
     },
     "execution_count": 16,
     "metadata": {},
     "output_type": "execute_result"
    }
   ],
   "source": [
    "df_new.head()"
   ]
  },
  {
   "cell_type": "code",
   "execution_count": 17,
   "metadata": {},
   "outputs": [],
   "source": [
    "# split data into input and output\n",
    "x=df_new.drop('Satisfaction',axis=1)#input variables\n",
    "y=df_new['Satisfaction'] #output varaible"
   ]
  },
  {
   "cell_type": "code",
   "execution_count": 18,
   "metadata": {},
   "outputs": [],
   "source": [
    "#give data to train_test_split class\n",
    "from sklearn.model_selection import train_test_split"
   ]
  },
  {
   "cell_type": "code",
   "execution_count": 19,
   "metadata": {},
   "outputs": [],
   "source": [
    "# spilt data into 2 parts ie. training(70%) and testing(30%)\n",
    "x_train,x_test,y_train,y_test=train_test_split(x,y,test_size=0.3,random_state=1)"
   ]
  },
  {
   "cell_type": "code",
   "execution_count": 20,
   "metadata": {},
   "outputs": [],
   "source": [
    "#apply scalling on input data\n",
    "#import standard scaller\n",
    "from sklearn.preprocessing import StandardScaler"
   ]
  },
  {
   "cell_type": "code",
   "execution_count": 21,
   "metadata": {},
   "outputs": [],
   "source": [
    "ss=StandardScaler()\n",
    "x_train=ss.fit_transform(x_train)#converting into numpy array\n",
    "x_test=ss.transform(x_test)"
   ]
  },
  {
   "cell_type": "code",
   "execution_count": 22,
   "metadata": {},
   "outputs": [
    {
     "data": {
      "text/plain": [
       "0    51380\n",
       "1    39536\n",
       "Name: Satisfaction, dtype: int64"
      ]
     },
     "execution_count": 22,
     "metadata": {},
     "output_type": "execute_result"
    }
   ],
   "source": [
    "# check wheather the data is balance or not\n",
    "# first check ytrain(0 and 1) :how many sample of o's and 1's\n",
    "y_train.value_counts()"
   ]
  },
  {
   "cell_type": "code",
   "execution_count": 23,
   "metadata": {},
   "outputs": [],
   "source": [
    "#difference is less than 50%\n",
    "#hence no need to apply sampling technique"
   ]
  },
  {
   "cell_type": "markdown",
   "metadata": {},
   "source": [
    "# Create model function"
   ]
  },
  {
   "cell_type": "code",
   "execution_count": 24,
   "metadata": {},
   "outputs": [],
   "source": [
    "#create model to perform ML algorithms\n",
    "def create_model(model):\n",
    "    model.fit(x_train,y_train)# train model with 70% data\n",
    "    y_pred=model.predict(x_test)#test with 30% data\n",
    "    print(classification_report(y_test,y_pred))\n",
    "    print(confusion_matrix(y_test,y_pred))\n",
    "    return model\n",
    "#import classification_report,confusion_matrix\n",
    "from sklearn.metrics import classification_report,confusion_matrix"
   ]
  },
  {
   "cell_type": "markdown",
   "metadata": {},
   "source": [
    "# Using Logistic Regression"
   ]
  },
  {
   "cell_type": "code",
   "execution_count": 25,
   "metadata": {},
   "outputs": [],
   "source": [
    "#First create meodel using Logistic resgression\n",
    "#import logistic regression module\n",
    "from sklearn.linear_model import LogisticRegression"
   ]
  },
  {
   "cell_type": "code",
   "execution_count": 26,
   "metadata": {},
   "outputs": [
    {
     "name": "stdout",
     "output_type": "stream",
     "text": [
      "              precision    recall  f1-score   support\n",
      "\n",
      "           0       0.88      0.91      0.89     22072\n",
      "           1       0.87      0.83      0.85     16892\n",
      "\n",
      "    accuracy                           0.87     38964\n",
      "   macro avg       0.87      0.87      0.87     38964\n",
      "weighted avg       0.87      0.87      0.87     38964\n",
      "\n",
      "[[19996  2076]\n",
      " [ 2817 14075]]\n"
     ]
    }
   ],
   "source": [
    "lr=LogisticRegression(random_state=1)\n",
    "lr=create_model(lr)"
   ]
  },
  {
   "cell_type": "code",
   "execution_count": 122,
   "metadata": {},
   "outputs": [],
   "source": [
    "#with Logistic Regression we are got f1 score 0=89% 1=85%"
   ]
  },
  {
   "cell_type": "markdown",
   "metadata": {},
   "source": [
    "# Using Decision Tree Clasifier"
   ]
  },
  {
   "cell_type": "markdown",
   "metadata": {},
   "source": [
    "# Gini-index method"
   ]
  },
  {
   "cell_type": "code",
   "execution_count": 27,
   "metadata": {},
   "outputs": [],
   "source": [
    "#create meodel using DecisionTree Classifier\n",
    "#import logistic regression module\n",
    "from sklearn.tree import DecisionTreeClassifier"
   ]
  },
  {
   "cell_type": "code",
   "execution_count": 29,
   "metadata": {},
   "outputs": [
    {
     "name": "stdout",
     "output_type": "stream",
     "text": [
      "              precision    recall  f1-score   support\n",
      "\n",
      "           0       0.95      0.95      0.95     22072\n",
      "           1       0.94      0.94      0.94     16892\n",
      "\n",
      "    accuracy                           0.95     38964\n",
      "   macro avg       0.94      0.95      0.94     38964\n",
      "weighted avg       0.95      0.95      0.95     38964\n",
      "\n",
      "[[20969  1103]\n",
      " [ 1012 15880]]\n"
     ]
    }
   ],
   "source": [
    "dt=DecisionTreeClassifier(random_state=1)\n",
    "dt=create_model(dt)"
   ]
  },
  {
   "cell_type": "code",
   "execution_count": 100,
   "metadata": {},
   "outputs": [],
   "source": [
    "#with decision tree we got f1 score of 0=95% & 1=94%"
   ]
  },
  {
   "cell_type": "code",
   "execution_count": 30,
   "metadata": {},
   "outputs": [
    {
     "data": {
      "text/html": [
       "<div>\n",
       "<style scoped>\n",
       "    .dataframe tbody tr th:only-of-type {\n",
       "        vertical-align: middle;\n",
       "    }\n",
       "\n",
       "    .dataframe tbody tr th {\n",
       "        vertical-align: top;\n",
       "    }\n",
       "\n",
       "    .dataframe thead th {\n",
       "        text-align: right;\n",
       "    }\n",
       "</style>\n",
       "<table border=\"1\" class=\"dataframe\">\n",
       "  <thead>\n",
       "    <tr style=\"text-align: right;\">\n",
       "      <th></th>\n",
       "      <th>Input</th>\n",
       "      <th>IG</th>\n",
       "    </tr>\n",
       "  </thead>\n",
       "  <tbody>\n",
       "    <tr>\n",
       "      <th>0</th>\n",
       "      <td>Online Boarding</td>\n",
       "      <td>0.361078</td>\n",
       "    </tr>\n",
       "    <tr>\n",
       "      <th>1</th>\n",
       "      <td>In-flight Wifi Service</td>\n",
       "      <td>0.177590</td>\n",
       "    </tr>\n",
       "    <tr>\n",
       "      <th>2</th>\n",
       "      <td>Type of Travel</td>\n",
       "      <td>0.149450</td>\n",
       "    </tr>\n",
       "    <tr>\n",
       "      <th>3</th>\n",
       "      <td>In-flight Entertainment</td>\n",
       "      <td>0.048454</td>\n",
       "    </tr>\n",
       "    <tr>\n",
       "      <th>4</th>\n",
       "      <td>Customer Type</td>\n",
       "      <td>0.042187</td>\n",
       "    </tr>\n",
       "    <tr>\n",
       "      <th>5</th>\n",
       "      <td>Check-in Service</td>\n",
       "      <td>0.028661</td>\n",
       "    </tr>\n",
       "    <tr>\n",
       "      <th>6</th>\n",
       "      <td>Flight Distance</td>\n",
       "      <td>0.024310</td>\n",
       "    </tr>\n",
       "    <tr>\n",
       "      <th>7</th>\n",
       "      <td>Age</td>\n",
       "      <td>0.021610</td>\n",
       "    </tr>\n",
       "    <tr>\n",
       "      <th>8</th>\n",
       "      <td>Class</td>\n",
       "      <td>0.021199</td>\n",
       "    </tr>\n",
       "    <tr>\n",
       "      <th>9</th>\n",
       "      <td>Baggage Handling</td>\n",
       "      <td>0.018515</td>\n",
       "    </tr>\n",
       "    <tr>\n",
       "      <th>10</th>\n",
       "      <td>Gate Location</td>\n",
       "      <td>0.016532</td>\n",
       "    </tr>\n",
       "    <tr>\n",
       "      <th>11</th>\n",
       "      <td>Seat Comfort</td>\n",
       "      <td>0.015631</td>\n",
       "    </tr>\n",
       "    <tr>\n",
       "      <th>12</th>\n",
       "      <td>In-flight Service</td>\n",
       "      <td>0.014446</td>\n",
       "    </tr>\n",
       "    <tr>\n",
       "      <th>13</th>\n",
       "      <td>Cleanliness</td>\n",
       "      <td>0.010650</td>\n",
       "    </tr>\n",
       "    <tr>\n",
       "      <th>14</th>\n",
       "      <td>Arrival Delay</td>\n",
       "      <td>0.009794</td>\n",
       "    </tr>\n",
       "    <tr>\n",
       "      <th>15</th>\n",
       "      <td>Leg Room Service</td>\n",
       "      <td>0.009287</td>\n",
       "    </tr>\n",
       "    <tr>\n",
       "      <th>16</th>\n",
       "      <td>Departure Delay</td>\n",
       "      <td>0.007745</td>\n",
       "    </tr>\n",
       "    <tr>\n",
       "      <th>17</th>\n",
       "      <td>On-board Service</td>\n",
       "      <td>0.007027</td>\n",
       "    </tr>\n",
       "    <tr>\n",
       "      <th>18</th>\n",
       "      <td>Departure and Arrival Time Convenience</td>\n",
       "      <td>0.006151</td>\n",
       "    </tr>\n",
       "    <tr>\n",
       "      <th>19</th>\n",
       "      <td>Ease of Online Booking</td>\n",
       "      <td>0.004193</td>\n",
       "    </tr>\n",
       "    <tr>\n",
       "      <th>20</th>\n",
       "      <td>Food and Drink</td>\n",
       "      <td>0.003478</td>\n",
       "    </tr>\n",
       "    <tr>\n",
       "      <th>21</th>\n",
       "      <td>Gender</td>\n",
       "      <td>0.002012</td>\n",
       "    </tr>\n",
       "  </tbody>\n",
       "</table>\n",
       "</div>"
      ],
      "text/plain": [
       "                                     Input        IG\n",
       "0                          Online Boarding  0.361078\n",
       "1                   In-flight Wifi Service  0.177590\n",
       "2                           Type of Travel  0.149450\n",
       "3                  In-flight Entertainment  0.048454\n",
       "4                            Customer Type  0.042187\n",
       "5                         Check-in Service  0.028661\n",
       "6                          Flight Distance  0.024310\n",
       "7                                      Age  0.021610\n",
       "8                                    Class  0.021199\n",
       "9                         Baggage Handling  0.018515\n",
       "10                           Gate Location  0.016532\n",
       "11                            Seat Comfort  0.015631\n",
       "12                       In-flight Service  0.014446\n",
       "13                             Cleanliness  0.010650\n",
       "14                           Arrival Delay  0.009794\n",
       "15                        Leg Room Service  0.009287\n",
       "16                         Departure Delay  0.007745\n",
       "17                        On-board Service  0.007027\n",
       "18  Departure and Arrival Time Convenience  0.006151\n",
       "19                  Ease of Online Booking  0.004193\n",
       "20                          Food and Drink  0.003478\n",
       "21                                  Gender  0.002012"
      ]
     },
     "execution_count": 30,
     "metadata": {},
     "output_type": "execute_result"
    }
   ],
   "source": [
    "#check information gain : \n",
    "dict={'Input':x.columns,'IG':dt.feature_importances_} \n",
    "df1=pd.DataFrame(dict)\n",
    "#sorting in decending order \n",
    "df1.sort_values('IG',ascending=False ,ignore_index=True)"
   ]
  },
  {
   "cell_type": "code",
   "execution_count": 31,
   "metadata": {},
   "outputs": [],
   "source": [
    "#to improve our f1score we apply puring technique\n",
    "#1)max_depth technique\n",
    "#2)min_samples_leaf technique"
   ]
  },
  {
   "cell_type": "code",
   "execution_count": 95,
   "metadata": {
    "scrolled": true
   },
   "outputs": [
    {
     "data": {
      "text/plain": [
       "\"for i in range(1,9):\\n    dt1=DecisionTreeClassifier(random_state=1,max_depth=i)\\n    print('max_depth:',i)\\n    dt1=create_model(dt1)\""
      ]
     },
     "execution_count": 95,
     "metadata": {},
     "output_type": "execute_result"
    }
   ],
   "source": [
    "# using max_depth technique\n",
    "'''for i in range(1,9):\n",
    "    dt1=DecisionTreeClassifier(random_state=1,max_depth=i)\n",
    "    print('max_depth:',i)\n",
    "    dt1=create_model(dt1)'''\n",
    "#heat and trial method"
   ]
  },
  {
   "cell_type": "code",
   "execution_count": 96,
   "metadata": {},
   "outputs": [
    {
     "name": "stdout",
     "output_type": "stream",
     "text": [
      "              precision    recall  f1-score   support\n",
      "\n",
      "           0       0.94      0.95      0.94     22072\n",
      "           1       0.93      0.92      0.93     16892\n",
      "\n",
      "    accuracy                           0.94     38964\n",
      "   macro avg       0.94      0.93      0.93     38964\n",
      "weighted avg       0.94      0.94      0.94     38964\n",
      "\n",
      "[[20962  1110]\n",
      " [ 1382 15510]]\n"
     ]
    }
   ],
   "source": [
    "dt=DecisionTreeClassifier(random_state=1,max_depth=8)\n",
    "dt=create_model(dt)"
   ]
  },
  {
   "cell_type": "code",
   "execution_count": 33,
   "metadata": {},
   "outputs": [],
   "source": [
    "#with max depth technique we are got f1 score 0=94% 1=93%"
   ]
  },
  {
   "cell_type": "code",
   "execution_count": 97,
   "metadata": {},
   "outputs": [
    {
     "data": {
      "text/plain": [
       "\"for i in range(45,101,1): #i=45 i=47,.....\\n dt2=DecisionTreeClassifier(random_state=1,min_samples_leaf=i)\\n #by default gini index\\n print('min_samples_leaf :',i)\\n #call function\\n dt2=create_model(dt2)\""
      ]
     },
     "execution_count": 97,
     "metadata": {},
     "output_type": "execute_result"
    }
   ],
   "source": [
    "#second puring technique: min_sampleleaf\n",
    "#min_samples_leaf >=45 and<=100\n",
    "'''for i in range(45,101,1): #i=45 i=47,.....\n",
    " dt2=DecisionTreeClassifier(random_state=1,min_samples_leaf=i)\n",
    " #by default gini index\n",
    " print('min_samples_leaf :',i)\n",
    " #call function\n",
    " dt2=create_model(dt2)'''"
   ]
  },
  {
   "cell_type": "code",
   "execution_count": 98,
   "metadata": {},
   "outputs": [
    {
     "name": "stdout",
     "output_type": "stream",
     "text": [
      "              precision    recall  f1-score   support\n",
      "\n",
      "           0       0.94      0.97      0.96     22072\n",
      "           1       0.95      0.93      0.94     16892\n",
      "\n",
      "    accuracy                           0.95     38964\n",
      "   macro avg       0.95      0.95      0.95     38964\n",
      "weighted avg       0.95      0.95      0.95     38964\n",
      "\n",
      "[[21310   762]\n",
      " [ 1246 15646]]\n"
     ]
    }
   ],
   "source": [
    "dt2=DecisionTreeClassifier(random_state=1,min_samples_leaf=45)\n",
    "dt2=create_model(dt2)"
   ]
  },
  {
   "cell_type": "code",
   "execution_count": 99,
   "metadata": {},
   "outputs": [],
   "source": [
    "#with min_samples_leaf technique we got f1 score 0=96% 1=94%"
   ]
  },
  {
   "cell_type": "code",
   "execution_count": 37,
   "metadata": {},
   "outputs": [
    {
     "data": {
      "text/html": [
       "<div>\n",
       "<style scoped>\n",
       "    .dataframe tbody tr th:only-of-type {\n",
       "        vertical-align: middle;\n",
       "    }\n",
       "\n",
       "    .dataframe tbody tr th {\n",
       "        vertical-align: top;\n",
       "    }\n",
       "\n",
       "    .dataframe thead th {\n",
       "        text-align: right;\n",
       "    }\n",
       "</style>\n",
       "<table border=\"1\" class=\"dataframe\">\n",
       "  <thead>\n",
       "    <tr style=\"text-align: right;\">\n",
       "      <th></th>\n",
       "      <th>Input</th>\n",
       "      <th>IG</th>\n",
       "    </tr>\n",
       "  </thead>\n",
       "  <tbody>\n",
       "    <tr>\n",
       "      <th>0</th>\n",
       "      <td>Online Boarding</td>\n",
       "      <td>0.414184</td>\n",
       "    </tr>\n",
       "    <tr>\n",
       "      <th>1</th>\n",
       "      <td>In-flight Wifi Service</td>\n",
       "      <td>0.199929</td>\n",
       "    </tr>\n",
       "    <tr>\n",
       "      <th>2</th>\n",
       "      <td>Type of Travel</td>\n",
       "      <td>0.169368</td>\n",
       "    </tr>\n",
       "    <tr>\n",
       "      <th>3</th>\n",
       "      <td>In-flight Entertainment</td>\n",
       "      <td>0.053215</td>\n",
       "    </tr>\n",
       "    <tr>\n",
       "      <th>4</th>\n",
       "      <td>Customer Type</td>\n",
       "      <td>0.044655</td>\n",
       "    </tr>\n",
       "    <tr>\n",
       "      <th>5</th>\n",
       "      <td>Check-in Service</td>\n",
       "      <td>0.027294</td>\n",
       "    </tr>\n",
       "    <tr>\n",
       "      <th>6</th>\n",
       "      <td>Class</td>\n",
       "      <td>0.021148</td>\n",
       "    </tr>\n",
       "    <tr>\n",
       "      <th>7</th>\n",
       "      <td>Baggage Handling</td>\n",
       "      <td>0.011902</td>\n",
       "    </tr>\n",
       "    <tr>\n",
       "      <th>8</th>\n",
       "      <td>Gate Location</td>\n",
       "      <td>0.011025</td>\n",
       "    </tr>\n",
       "    <tr>\n",
       "      <th>9</th>\n",
       "      <td>In-flight Service</td>\n",
       "      <td>0.009904</td>\n",
       "    </tr>\n",
       "    <tr>\n",
       "      <th>10</th>\n",
       "      <td>Seat Comfort</td>\n",
       "      <td>0.009081</td>\n",
       "    </tr>\n",
       "    <tr>\n",
       "      <th>11</th>\n",
       "      <td>Cleanliness</td>\n",
       "      <td>0.007674</td>\n",
       "    </tr>\n",
       "    <tr>\n",
       "      <th>12</th>\n",
       "      <td>Age</td>\n",
       "      <td>0.007536</td>\n",
       "    </tr>\n",
       "    <tr>\n",
       "      <th>13</th>\n",
       "      <td>Arrival Delay</td>\n",
       "      <td>0.002968</td>\n",
       "    </tr>\n",
       "    <tr>\n",
       "      <th>14</th>\n",
       "      <td>Flight Distance</td>\n",
       "      <td>0.002934</td>\n",
       "    </tr>\n",
       "    <tr>\n",
       "      <th>15</th>\n",
       "      <td>On-board Service</td>\n",
       "      <td>0.002820</td>\n",
       "    </tr>\n",
       "    <tr>\n",
       "      <th>16</th>\n",
       "      <td>Leg Room Service</td>\n",
       "      <td>0.002052</td>\n",
       "    </tr>\n",
       "    <tr>\n",
       "      <th>17</th>\n",
       "      <td>Ease of Online Booking</td>\n",
       "      <td>0.001352</td>\n",
       "    </tr>\n",
       "    <tr>\n",
       "      <th>18</th>\n",
       "      <td>Departure and Arrival Time Convenience</td>\n",
       "      <td>0.000392</td>\n",
       "    </tr>\n",
       "    <tr>\n",
       "      <th>19</th>\n",
       "      <td>Departure Delay</td>\n",
       "      <td>0.000354</td>\n",
       "    </tr>\n",
       "    <tr>\n",
       "      <th>20</th>\n",
       "      <td>Food and Drink</td>\n",
       "      <td>0.000151</td>\n",
       "    </tr>\n",
       "    <tr>\n",
       "      <th>21</th>\n",
       "      <td>Gender</td>\n",
       "      <td>0.000062</td>\n",
       "    </tr>\n",
       "  </tbody>\n",
       "</table>\n",
       "</div>"
      ],
      "text/plain": [
       "                                     Input        IG\n",
       "0                          Online Boarding  0.414184\n",
       "1                   In-flight Wifi Service  0.199929\n",
       "2                           Type of Travel  0.169368\n",
       "3                  In-flight Entertainment  0.053215\n",
       "4                            Customer Type  0.044655\n",
       "5                         Check-in Service  0.027294\n",
       "6                                    Class  0.021148\n",
       "7                         Baggage Handling  0.011902\n",
       "8                            Gate Location  0.011025\n",
       "9                        In-flight Service  0.009904\n",
       "10                            Seat Comfort  0.009081\n",
       "11                             Cleanliness  0.007674\n",
       "12                                     Age  0.007536\n",
       "13                           Arrival Delay  0.002968\n",
       "14                         Flight Distance  0.002934\n",
       "15                        On-board Service  0.002820\n",
       "16                        Leg Room Service  0.002052\n",
       "17                  Ease of Online Booking  0.001352\n",
       "18  Departure and Arrival Time Convenience  0.000392\n",
       "19                         Departure Delay  0.000354\n",
       "20                          Food and Drink  0.000151\n",
       "21                                  Gender  0.000062"
      ]
     },
     "execution_count": 37,
     "metadata": {},
     "output_type": "execute_result"
    }
   ],
   "source": [
    "#check information gain : \n",
    "dict={'Input':x.columns,'IG':dt2.feature_importances_} \n",
    "df1=pd.DataFrame(dict)\n",
    "#sorting in decending order \n",
    "df1.sort_values('IG',ascending=False ,ignore_index=True)"
   ]
  },
  {
   "cell_type": "code",
   "execution_count": 38,
   "metadata": {},
   "outputs": [],
   "source": [
    "#with gini index we got maximum f1 score of 0=96% & 1=94%"
   ]
  },
  {
   "cell_type": "markdown",
   "metadata": {},
   "source": [
    "# Entropy method"
   ]
  },
  {
   "cell_type": "code",
   "execution_count": 40,
   "metadata": {},
   "outputs": [
    {
     "name": "stdout",
     "output_type": "stream",
     "text": [
      "              precision    recall  f1-score   support\n",
      "\n",
      "           0       0.96      0.95      0.95     22072\n",
      "           1       0.94      0.94      0.94     16892\n",
      "\n",
      "    accuracy                           0.95     38964\n",
      "   macro avg       0.95      0.95      0.95     38964\n",
      "weighted avg       0.95      0.95      0.95     38964\n",
      "\n",
      "[[21027  1045]\n",
      " [  984 15908]]\n"
     ]
    }
   ],
   "source": [
    "dte=DecisionTreeClassifier(random_state=1,criterion='entropy')\n",
    "dte=create_model(dte)"
   ]
  },
  {
   "cell_type": "code",
   "execution_count": 101,
   "metadata": {},
   "outputs": [],
   "source": [
    "#we got f1 score of 0=95% & 1=94%"
   ]
  },
  {
   "cell_type": "code",
   "execution_count": 41,
   "metadata": {},
   "outputs": [
    {
     "data": {
      "text/html": [
       "<div>\n",
       "<style scoped>\n",
       "    .dataframe tbody tr th:only-of-type {\n",
       "        vertical-align: middle;\n",
       "    }\n",
       "\n",
       "    .dataframe tbody tr th {\n",
       "        vertical-align: top;\n",
       "    }\n",
       "\n",
       "    .dataframe thead th {\n",
       "        text-align: right;\n",
       "    }\n",
       "</style>\n",
       "<table border=\"1\" class=\"dataframe\">\n",
       "  <thead>\n",
       "    <tr style=\"text-align: right;\">\n",
       "      <th></th>\n",
       "      <th>Input</th>\n",
       "      <th>IG</th>\n",
       "    </tr>\n",
       "  </thead>\n",
       "  <tbody>\n",
       "    <tr>\n",
       "      <th>0</th>\n",
       "      <td>Online Boarding</td>\n",
       "      <td>0.301680</td>\n",
       "    </tr>\n",
       "    <tr>\n",
       "      <th>1</th>\n",
       "      <td>In-flight Wifi Service</td>\n",
       "      <td>0.186771</td>\n",
       "    </tr>\n",
       "    <tr>\n",
       "      <th>2</th>\n",
       "      <td>Type of Travel</td>\n",
       "      <td>0.131633</td>\n",
       "    </tr>\n",
       "    <tr>\n",
       "      <th>3</th>\n",
       "      <td>Customer Type</td>\n",
       "      <td>0.048655</td>\n",
       "    </tr>\n",
       "    <tr>\n",
       "      <th>4</th>\n",
       "      <td>Class</td>\n",
       "      <td>0.039084</td>\n",
       "    </tr>\n",
       "    <tr>\n",
       "      <th>5</th>\n",
       "      <td>On-board Service</td>\n",
       "      <td>0.036101</td>\n",
       "    </tr>\n",
       "    <tr>\n",
       "      <th>6</th>\n",
       "      <td>Flight Distance</td>\n",
       "      <td>0.028197</td>\n",
       "    </tr>\n",
       "    <tr>\n",
       "      <th>7</th>\n",
       "      <td>In-flight Entertainment</td>\n",
       "      <td>0.028123</td>\n",
       "    </tr>\n",
       "    <tr>\n",
       "      <th>8</th>\n",
       "      <td>Age</td>\n",
       "      <td>0.026566</td>\n",
       "    </tr>\n",
       "    <tr>\n",
       "      <th>9</th>\n",
       "      <td>Check-in Service</td>\n",
       "      <td>0.025830</td>\n",
       "    </tr>\n",
       "    <tr>\n",
       "      <th>10</th>\n",
       "      <td>Baggage Handling</td>\n",
       "      <td>0.024038</td>\n",
       "    </tr>\n",
       "    <tr>\n",
       "      <th>11</th>\n",
       "      <td>Gate Location</td>\n",
       "      <td>0.020171</td>\n",
       "    </tr>\n",
       "    <tr>\n",
       "      <th>12</th>\n",
       "      <td>Seat Comfort</td>\n",
       "      <td>0.019771</td>\n",
       "    </tr>\n",
       "    <tr>\n",
       "      <th>13</th>\n",
       "      <td>In-flight Service</td>\n",
       "      <td>0.019731</td>\n",
       "    </tr>\n",
       "    <tr>\n",
       "      <th>14</th>\n",
       "      <td>Cleanliness</td>\n",
       "      <td>0.017256</td>\n",
       "    </tr>\n",
       "    <tr>\n",
       "      <th>15</th>\n",
       "      <td>Leg Room Service</td>\n",
       "      <td>0.010422</td>\n",
       "    </tr>\n",
       "    <tr>\n",
       "      <th>16</th>\n",
       "      <td>Arrival Delay</td>\n",
       "      <td>0.009582</td>\n",
       "    </tr>\n",
       "    <tr>\n",
       "      <th>17</th>\n",
       "      <td>Departure Delay</td>\n",
       "      <td>0.009087</td>\n",
       "    </tr>\n",
       "    <tr>\n",
       "      <th>18</th>\n",
       "      <td>Departure and Arrival Time Convenience</td>\n",
       "      <td>0.005472</td>\n",
       "    </tr>\n",
       "    <tr>\n",
       "      <th>19</th>\n",
       "      <td>Ease of Online Booking</td>\n",
       "      <td>0.004815</td>\n",
       "    </tr>\n",
       "    <tr>\n",
       "      <th>20</th>\n",
       "      <td>Food and Drink</td>\n",
       "      <td>0.004756</td>\n",
       "    </tr>\n",
       "    <tr>\n",
       "      <th>21</th>\n",
       "      <td>Gender</td>\n",
       "      <td>0.002260</td>\n",
       "    </tr>\n",
       "  </tbody>\n",
       "</table>\n",
       "</div>"
      ],
      "text/plain": [
       "                                     Input        IG\n",
       "0                          Online Boarding  0.301680\n",
       "1                   In-flight Wifi Service  0.186771\n",
       "2                           Type of Travel  0.131633\n",
       "3                            Customer Type  0.048655\n",
       "4                                    Class  0.039084\n",
       "5                         On-board Service  0.036101\n",
       "6                          Flight Distance  0.028197\n",
       "7                  In-flight Entertainment  0.028123\n",
       "8                                      Age  0.026566\n",
       "9                         Check-in Service  0.025830\n",
       "10                        Baggage Handling  0.024038\n",
       "11                           Gate Location  0.020171\n",
       "12                            Seat Comfort  0.019771\n",
       "13                       In-flight Service  0.019731\n",
       "14                             Cleanliness  0.017256\n",
       "15                        Leg Room Service  0.010422\n",
       "16                           Arrival Delay  0.009582\n",
       "17                         Departure Delay  0.009087\n",
       "18  Departure and Arrival Time Convenience  0.005472\n",
       "19                  Ease of Online Booking  0.004815\n",
       "20                          Food and Drink  0.004756\n",
       "21                                  Gender  0.002260"
      ]
     },
     "execution_count": 41,
     "metadata": {},
     "output_type": "execute_result"
    }
   ],
   "source": [
    "#check information gain : \n",
    "dict={'Input':x.columns,'IG':dte.feature_importances_} \n",
    "df1=pd.DataFrame(dict)\n",
    "#sorting in decending order \n",
    "df1.sort_values('IG',ascending=False ,ignore_index=True)"
   ]
  },
  {
   "cell_type": "code",
   "execution_count": 42,
   "metadata": {},
   "outputs": [],
   "source": [
    "#to improve our f1score we apply puring technique\n",
    "#1)max_depth technique\n",
    "#2)min_samples_leaf technique"
   ]
  },
  {
   "cell_type": "code",
   "execution_count": 104,
   "metadata": {
    "scrolled": true
   },
   "outputs": [
    {
     "data": {
      "text/plain": [
       "\"for i in range(1,9):\\n    dte1=DecisionTreeClassifier(random_state=1,max_depth=i,criterion='entropy')\\n    print('max_depth:',i)\\n    dte1=create_model(dte1)\""
      ]
     },
     "execution_count": 104,
     "metadata": {},
     "output_type": "execute_result"
    }
   ],
   "source": [
    "# using max_depth technique\n",
    "'''for i in range(1,9):\n",
    "    dte1=DecisionTreeClassifier(random_state=1,max_depth=i,criterion='entropy')\n",
    "    print('max_depth:',i)\n",
    "    dte1=create_model(dte1)'''"
   ]
  },
  {
   "cell_type": "code",
   "execution_count": 102,
   "metadata": {},
   "outputs": [
    {
     "name": "stdout",
     "output_type": "stream",
     "text": [
      "              precision    recall  f1-score   support\n",
      "\n",
      "           0       0.94      0.95      0.95     22072\n",
      "           1       0.93      0.93      0.93     16892\n",
      "\n",
      "    accuracy                           0.94     38964\n",
      "   macro avg       0.94      0.94      0.94     38964\n",
      "weighted avg       0.94      0.94      0.94     38964\n",
      "\n",
      "[[20923  1149]\n",
      " [ 1222 15670]]\n"
     ]
    }
   ],
   "source": [
    "dte1=DecisionTreeClassifier(random_state=1,max_depth=8,criterion='entropy')\n",
    "dte1=create_model(dte1)"
   ]
  },
  {
   "cell_type": "code",
   "execution_count": 103,
   "metadata": {},
   "outputs": [],
   "source": [
    "#with max depth technique we are got drop in f1 score 0=95% 1=93%"
   ]
  },
  {
   "cell_type": "code",
   "execution_count": 105,
   "metadata": {},
   "outputs": [
    {
     "data": {
      "text/plain": [
       "\"for i in range(45,101,1): #i=45 i=47,.....\\n dte2=DecisionTreeClassifier(random_state=1,min_samples_leaf=i,criterion='entropy')\\n #by default gini index\\n print('min_samples_leaf :',i)\\n #call function\\n dte2=create_model(dte2)\""
      ]
     },
     "execution_count": 105,
     "metadata": {},
     "output_type": "execute_result"
    }
   ],
   "source": [
    "#second puring technique: min_sampleleaf\n",
    "#min_samples_leaf >=45 and<=100\n",
    "'''for i in range(45,101,1): #i=45 i=47,.....\n",
    " dte2=DecisionTreeClassifier(random_state=1,min_samples_leaf=i,criterion='entropy')\n",
    " #by default gini index\n",
    " print('min_samples_leaf :',i)\n",
    " #call function\n",
    " dte2=create_model(dte2)'''"
   ]
  },
  {
   "cell_type": "code",
   "execution_count": 45,
   "metadata": {},
   "outputs": [
    {
     "name": "stdout",
     "output_type": "stream",
     "text": [
      "              precision    recall  f1-score   support\n",
      "\n",
      "           0       0.95      0.97      0.96     22072\n",
      "           1       0.96      0.93      0.94     16892\n",
      "\n",
      "    accuracy                           0.95     38964\n",
      "   macro avg       0.95      0.95      0.95     38964\n",
      "weighted avg       0.95      0.95      0.95     38964\n",
      "\n",
      "[[21387   685]\n",
      " [ 1204 15688]]\n"
     ]
    }
   ],
   "source": [
    "dte2=DecisionTreeClassifier(random_state=1,min_samples_leaf=45,criterion='entropy')\n",
    "dte2=create_model(dte2)"
   ]
  },
  {
   "cell_type": "code",
   "execution_count": 106,
   "metadata": {},
   "outputs": [],
   "source": [
    "#with entropy method we got f1 score of 0=96% & 1=94%\n",
    "# we got same output by both method \n",
    "#hence our final output after applig Decision tree is 0=96% & 1=94%"
   ]
  },
  {
   "cell_type": "markdown",
   "metadata": {},
   "source": [
    "# Using RandomForest"
   ]
  },
  {
   "cell_type": "code",
   "execution_count": 48,
   "metadata": {},
   "outputs": [],
   "source": [
    "#crate model using Random Forest\n",
    "from sklearn.ensemble import RandomForestClassifier"
   ]
  },
  {
   "cell_type": "code",
   "execution_count": 107,
   "metadata": {},
   "outputs": [
    {
     "data": {
      "text/plain": [
       "\"for i in range(10,101):\\n    rfc=RandomForestClassifier(n_estimators=i,random_state=1)\\n    print('no. of decision tree:',i)\\n    rfc=create_model(rfc)\""
      ]
     },
     "execution_count": 107,
     "metadata": {},
     "output_type": "execute_result"
    }
   ],
   "source": [
    "'''for i in range(10,101):\n",
    "    rfc=RandomForestClassifier(n_estimators=i,random_state=1)\n",
    "    print('no. of decision tree:',i)\n",
    "    rfc=create_model(rfc)'''"
   ]
  },
  {
   "cell_type": "code",
   "execution_count": 50,
   "metadata": {},
   "outputs": [
    {
     "name": "stdout",
     "output_type": "stream",
     "text": [
      "              precision    recall  f1-score   support\n",
      "\n",
      "           0       0.96      0.98      0.97     22072\n",
      "           1       0.97      0.94      0.96     16892\n",
      "\n",
      "    accuracy                           0.96     38964\n",
      "   macro avg       0.96      0.96      0.96     38964\n",
      "weighted avg       0.96      0.96      0.96     38964\n",
      "\n",
      "[[21598   474]\n",
      " [ 1011 15881]]\n"
     ]
    }
   ],
   "source": [
    "#we choose no_decisiontree=29(n_estimator)\n",
    "rfc=RandomForestClassifier(random_state=1,n_estimators=29)\n",
    "rfc=create_model(rfc)"
   ]
  },
  {
   "cell_type": "code",
   "execution_count": 108,
   "metadata": {},
   "outputs": [],
   "source": [
    "#with Random Forest we got f1 score of 0=97% and 1=96%"
   ]
  },
  {
   "cell_type": "code",
   "execution_count": 51,
   "metadata": {},
   "outputs": [
    {
     "data": {
      "text/html": [
       "<div>\n",
       "<style scoped>\n",
       "    .dataframe tbody tr th:only-of-type {\n",
       "        vertical-align: middle;\n",
       "    }\n",
       "\n",
       "    .dataframe tbody tr th {\n",
       "        vertical-align: top;\n",
       "    }\n",
       "\n",
       "    .dataframe thead th {\n",
       "        text-align: right;\n",
       "    }\n",
       "</style>\n",
       "<table border=\"1\" class=\"dataframe\">\n",
       "  <thead>\n",
       "    <tr style=\"text-align: right;\">\n",
       "      <th></th>\n",
       "      <th>Input</th>\n",
       "      <th>IG</th>\n",
       "    </tr>\n",
       "  </thead>\n",
       "  <tbody>\n",
       "    <tr>\n",
       "      <th>0</th>\n",
       "      <td>Online Boarding</td>\n",
       "      <td>0.192875</td>\n",
       "    </tr>\n",
       "    <tr>\n",
       "      <th>1</th>\n",
       "      <td>In-flight Wifi Service</td>\n",
       "      <td>0.148736</td>\n",
       "    </tr>\n",
       "    <tr>\n",
       "      <th>2</th>\n",
       "      <td>Class</td>\n",
       "      <td>0.105648</td>\n",
       "    </tr>\n",
       "    <tr>\n",
       "      <th>3</th>\n",
       "      <td>Type of Travel</td>\n",
       "      <td>0.096767</td>\n",
       "    </tr>\n",
       "    <tr>\n",
       "      <th>4</th>\n",
       "      <td>In-flight Entertainment</td>\n",
       "      <td>0.059960</td>\n",
       "    </tr>\n",
       "    <tr>\n",
       "      <th>5</th>\n",
       "      <td>Leg Room Service</td>\n",
       "      <td>0.039227</td>\n",
       "    </tr>\n",
       "    <tr>\n",
       "      <th>6</th>\n",
       "      <td>Ease of Online Booking</td>\n",
       "      <td>0.036083</td>\n",
       "    </tr>\n",
       "    <tr>\n",
       "      <th>7</th>\n",
       "      <td>Seat Comfort</td>\n",
       "      <td>0.035923</td>\n",
       "    </tr>\n",
       "    <tr>\n",
       "      <th>8</th>\n",
       "      <td>Flight Distance</td>\n",
       "      <td>0.034834</td>\n",
       "    </tr>\n",
       "    <tr>\n",
       "      <th>9</th>\n",
       "      <td>Age</td>\n",
       "      <td>0.032538</td>\n",
       "    </tr>\n",
       "    <tr>\n",
       "      <th>10</th>\n",
       "      <td>Customer Type</td>\n",
       "      <td>0.032271</td>\n",
       "    </tr>\n",
       "    <tr>\n",
       "      <th>11</th>\n",
       "      <td>Baggage Handling</td>\n",
       "      <td>0.026907</td>\n",
       "    </tr>\n",
       "    <tr>\n",
       "      <th>12</th>\n",
       "      <td>On-board Service</td>\n",
       "      <td>0.024891</td>\n",
       "    </tr>\n",
       "    <tr>\n",
       "      <th>13</th>\n",
       "      <td>Check-in Service</td>\n",
       "      <td>0.021291</td>\n",
       "    </tr>\n",
       "    <tr>\n",
       "      <th>14</th>\n",
       "      <td>Cleanliness</td>\n",
       "      <td>0.020503</td>\n",
       "    </tr>\n",
       "    <tr>\n",
       "      <th>15</th>\n",
       "      <td>In-flight Service</td>\n",
       "      <td>0.019295</td>\n",
       "    </tr>\n",
       "    <tr>\n",
       "      <th>16</th>\n",
       "      <td>Departure and Arrival Time Convenience</td>\n",
       "      <td>0.017516</td>\n",
       "    </tr>\n",
       "    <tr>\n",
       "      <th>17</th>\n",
       "      <td>Gate Location</td>\n",
       "      <td>0.016425</td>\n",
       "    </tr>\n",
       "    <tr>\n",
       "      <th>18</th>\n",
       "      <td>Arrival Delay</td>\n",
       "      <td>0.012007</td>\n",
       "    </tr>\n",
       "    <tr>\n",
       "      <th>19</th>\n",
       "      <td>Departure Delay</td>\n",
       "      <td>0.011245</td>\n",
       "    </tr>\n",
       "    <tr>\n",
       "      <th>20</th>\n",
       "      <td>Food and Drink</td>\n",
       "      <td>0.010582</td>\n",
       "    </tr>\n",
       "    <tr>\n",
       "      <th>21</th>\n",
       "      <td>Gender</td>\n",
       "      <td>0.004476</td>\n",
       "    </tr>\n",
       "  </tbody>\n",
       "</table>\n",
       "</div>"
      ],
      "text/plain": [
       "                                     Input        IG\n",
       "0                          Online Boarding  0.192875\n",
       "1                   In-flight Wifi Service  0.148736\n",
       "2                                    Class  0.105648\n",
       "3                           Type of Travel  0.096767\n",
       "4                  In-flight Entertainment  0.059960\n",
       "5                         Leg Room Service  0.039227\n",
       "6                   Ease of Online Booking  0.036083\n",
       "7                             Seat Comfort  0.035923\n",
       "8                          Flight Distance  0.034834\n",
       "9                                      Age  0.032538\n",
       "10                           Customer Type  0.032271\n",
       "11                        Baggage Handling  0.026907\n",
       "12                        On-board Service  0.024891\n",
       "13                        Check-in Service  0.021291\n",
       "14                             Cleanliness  0.020503\n",
       "15                       In-flight Service  0.019295\n",
       "16  Departure and Arrival Time Convenience  0.017516\n",
       "17                           Gate Location  0.016425\n",
       "18                           Arrival Delay  0.012007\n",
       "19                         Departure Delay  0.011245\n",
       "20                          Food and Drink  0.010582\n",
       "21                                  Gender  0.004476"
      ]
     },
     "execution_count": 51,
     "metadata": {},
     "output_type": "execute_result"
    }
   ],
   "source": [
    "#check information gain : \n",
    "dict={'Input':x.columns,'IG':rfc.feature_importances_} \n",
    "df1=pd.DataFrame(dict)\n",
    "#sorting in decending order \n",
    "df1.sort_values('IG',ascending=False ,ignore_index=True)"
   ]
  },
  {
   "cell_type": "code",
   "execution_count": 110,
   "metadata": {
    "scrolled": true
   },
   "outputs": [
    {
     "data": {
      "text/plain": [
       "\"for i in range (1,9):\\n     rfc1=RandomForestClassifier(n_estimators=29,random_state=1,max_depth=i)\\n     print('max depth',i)\\n     rfc1=create_model(rfc1)\""
      ]
     },
     "execution_count": 110,
     "metadata": {},
     "output_type": "execute_result"
    }
   ],
   "source": [
    "#apply pruning technique 1:max_depth method\n",
    "'''for i in range (1,9):\n",
    "     rfc1=RandomForestClassifier(n_estimators=29,random_state=1,max_depth=i)\n",
    "     print('max depth',i)\n",
    "     rfc1=create_model(rfc1)'''"
   ]
  },
  {
   "cell_type": "code",
   "execution_count": 109,
   "metadata": {},
   "outputs": [
    {
     "name": "stdout",
     "output_type": "stream",
     "text": [
      "              precision    recall  f1-score   support\n",
      "\n",
      "           0       0.94      0.95      0.95     22072\n",
      "           1       0.94      0.92      0.93     16892\n",
      "\n",
      "    accuracy                           0.94     38964\n",
      "   macro avg       0.94      0.94      0.94     38964\n",
      "weighted avg       0.94      0.94      0.94     38964\n",
      "\n",
      "[[21004  1068]\n",
      " [ 1356 15536]]\n"
     ]
    }
   ],
   "source": [
    "rfc1=RandomForestClassifier(n_estimators=29,random_state=1,max_depth=8)\n",
    "rfc1=create_model(rfc1)"
   ]
  },
  {
   "cell_type": "code",
   "execution_count": 111,
   "metadata": {},
   "outputs": [],
   "source": [
    "#we got f1 score of 0=95% and 1=93%"
   ]
  },
  {
   "cell_type": "code",
   "execution_count": 113,
   "metadata": {},
   "outputs": [
    {
     "data": {
      "text/plain": [
       "\"for i in range (45,100):\\n     rfc2=RandomForestClassifier(n_estimators=29,random_state=1,min_samples_leaf=i)\\n     print('minsampeles_leaf',i)\\n     rfc2=create_model(rfc2)\""
      ]
     },
     "execution_count": 113,
     "metadata": {},
     "output_type": "execute_result"
    }
   ],
   "source": [
    "#apply second pruning technique ie. min_sample_leaf(>=45 and<=100)\n",
    "'''for i in range (45,100):\n",
    "     rfc2=RandomForestClassifier(n_estimators=29,random_state=1,min_samples_leaf=i)\n",
    "     print('minsampeles_leaf',i)\n",
    "     rfc2=create_model(rfc2)'''"
   ]
  },
  {
   "cell_type": "code",
   "execution_count": 112,
   "metadata": {},
   "outputs": [
    {
     "name": "stdout",
     "output_type": "stream",
     "text": [
      "              precision    recall  f1-score   support\n",
      "\n",
      "           0       0.94      0.96      0.95     22072\n",
      "           1       0.95      0.92      0.93     16892\n",
      "\n",
      "    accuracy                           0.94     38964\n",
      "   macro avg       0.94      0.94      0.94     38964\n",
      "weighted avg       0.94      0.94      0.94     38964\n",
      "\n",
      "[[21194   878]\n",
      " [ 1316 15576]]\n"
     ]
    }
   ],
   "source": [
    "rfc2=RandomForestClassifier(n_estimators=29,random_state=1,min_samples_leaf=45)\n",
    "rfc2=create_model(rfc2)"
   ]
  },
  {
   "cell_type": "code",
   "execution_count": null,
   "metadata": {},
   "outputs": [],
   "source": [
    "#we got f1 score of 0=95% and 1=93%"
   ]
  },
  {
   "cell_type": "markdown",
   "metadata": {},
   "source": [
    "# Using Adaboost Technique"
   ]
  },
  {
   "cell_type": "code",
   "execution_count": 54,
   "metadata": {},
   "outputs": [],
   "source": [
    "# create model using Adaboosting technique\n",
    "from sklearn.ensemble import AdaBoostClassifier"
   ]
  },
  {
   "cell_type": "code",
   "execution_count": 115,
   "metadata": {},
   "outputs": [
    {
     "data": {
      "text/plain": [
       "\"for i in range(1,22):#as we have 21 input varaiables\\n    ada=AdaBoostClassifier(n_estimators=i,random_state=1)\\n    print('no. of decions stump',i)\\n    ada=create_model(ada)\""
      ]
     },
     "execution_count": 115,
     "metadata": {},
     "output_type": "execute_result"
    }
   ],
   "source": [
    "'''for i in range(1,22):#as we have 21 input varaiables\n",
    "    ada=AdaBoostClassifier(n_estimators=i,random_state=1)\n",
    "    print('no. of decions stump',i)\n",
    "    ada=create_model(ada)'''"
   ]
  },
  {
   "cell_type": "code",
   "execution_count": 114,
   "metadata": {},
   "outputs": [
    {
     "name": "stdout",
     "output_type": "stream",
     "text": [
      "              precision    recall  f1-score   support\n",
      "\n",
      "           0       0.93      0.94      0.94     22072\n",
      "           1       0.92      0.91      0.92     16892\n",
      "\n",
      "    accuracy                           0.93     38964\n",
      "   macro avg       0.93      0.93      0.93     38964\n",
      "weighted avg       0.93      0.93      0.93     38964\n",
      "\n",
      "[[20816  1256]\n",
      " [ 1485 15407]]\n"
     ]
    }
   ],
   "source": [
    "ada=AdaBoostClassifier(n_estimators=,random_state=1)\n",
    "ada=create_model(ada)"
   ]
  },
  {
   "cell_type": "code",
   "execution_count": 56,
   "metadata": {},
   "outputs": [],
   "source": [
    "#with Adaboost we got f1 score of  0=94% and 1=92%"
   ]
  },
  {
   "cell_type": "markdown",
   "metadata": {},
   "source": [
    "# Using Gradient Boost"
   ]
  },
  {
   "cell_type": "code",
   "execution_count": 57,
   "metadata": {},
   "outputs": [],
   "source": [
    "from sklearn.ensemble import  GradientBoostingClassifier"
   ]
  },
  {
   "cell_type": "code",
   "execution_count": 116,
   "metadata": {},
   "outputs": [
    {
     "data": {
      "text/plain": [
       "\"for i in range(10,101):\\n    #create the object of gradientboostclassier class\\n    gbc= GradientBoostingClassifier(n_estimators=i,random_state=1)\\n    print('No of estimators :',i)\\n    #call function\\n    gbc=create_model(gbc)\""
      ]
     },
     "execution_count": 116,
     "metadata": {},
     "output_type": "execute_result"
    }
   ],
   "source": [
    "'''for i in range(10,101):\n",
    "    #create the object of gradientboostclassier class\n",
    "    gbc= GradientBoostingClassifier(n_estimators=i,random_state=1)\n",
    "    print('No of estimators :',i)\n",
    "    #call function\n",
    "    gbc=create_model(gbc)'''"
   ]
  },
  {
   "cell_type": "code",
   "execution_count": 59,
   "metadata": {},
   "outputs": [
    {
     "name": "stdout",
     "output_type": "stream",
     "text": [
      "              precision    recall  f1-score   support\n",
      "\n",
      "           0       0.93      0.95      0.94     22072\n",
      "           1       0.93      0.90      0.92     16892\n",
      "\n",
      "    accuracy                           0.93     38964\n",
      "   macro avg       0.93      0.93      0.93     38964\n",
      "weighted avg       0.93      0.93      0.93     38964\n",
      "\n",
      "[[20901  1171]\n",
      " [ 1620 15272]]\n"
     ]
    }
   ],
   "source": [
    "gbc= GradientBoostingClassifier(n_estimators=35,random_state=1)\n",
    "gbc=create_model(gbc)"
   ]
  },
  {
   "cell_type": "code",
   "execution_count": null,
   "metadata": {},
   "outputs": [],
   "source": [
    "#with gradient boosting we got f1 score of 0=94% and 1=92%"
   ]
  },
  {
   "cell_type": "markdown",
   "metadata": {},
   "source": [
    "# Using xtreame gradient boost"
   ]
  },
  {
   "cell_type": "code",
   "execution_count": 117,
   "metadata": {},
   "outputs": [
    {
     "data": {
      "text/plain": [
       "\"for i in range(10,101):\\n #create the object of XGBclassier class\\n xgc= XGBClassifier(n_estimators=i,random_state=1,reg_alpha=1)\\n print('No of estimators :',i)\\n #call function\\n xgc=create_model(gbc)\""
      ]
     },
     "execution_count": 117,
     "metadata": {},
     "output_type": "execute_result"
    }
   ],
   "source": [
    "from xgboost import XGBClassifier\n",
    "'''for i in range(10,101):\n",
    " #create the object of XGBclassier class\n",
    " xgc= XGBClassifier(n_estimators=i,random_state=1,reg_alpha=1)\n",
    " print('No of estimators :',i)\n",
    " #call function\n",
    " xgc=create_model(gbc)'''"
   ]
  },
  {
   "cell_type": "code",
   "execution_count": 61,
   "metadata": {},
   "outputs": [
    {
     "name": "stderr",
     "output_type": "stream",
     "text": [
      "C:\\Users\\Shivraj\\anaconda3\\lib\\site-packages\\xgboost\\sklearn.py:1224: UserWarning: The use of label encoder in XGBClassifier is deprecated and will be removed in a future release. To remove this warning, do the following: 1) Pass option use_label_encoder=False when constructing XGBClassifier object; and 2) Encode your labels (y) as integers starting with 0, i.e. 0, 1, 2, ..., [num_class - 1].\n",
      "  warnings.warn(label_encoder_deprecation_msg, UserWarning)\n"
     ]
    },
    {
     "name": "stdout",
     "output_type": "stream",
     "text": [
      "[12:13:07] WARNING: C:/Users/Administrator/workspace/xgboost-win64_release_1.5.1/src/learner.cc:1115: Starting in XGBoost 1.3.0, the default evaluation metric used with the objective 'binary:logistic' was changed from 'error' to 'logloss'. Explicitly set eval_metric if you'd like to restore the old behavior.\n",
      "              precision    recall  f1-score   support\n",
      "\n",
      "           0       0.94      0.97      0.95     22072\n",
      "           1       0.95      0.93      0.94     16892\n",
      "\n",
      "    accuracy                           0.95     38964\n",
      "   macro avg       0.95      0.95      0.95     38964\n",
      "weighted avg       0.95      0.95      0.95     38964\n",
      "\n",
      "[[21310   762]\n",
      " [ 1264 15628]]\n"
     ]
    }
   ],
   "source": [
    "xgc= XGBClassifier(n_estimators=10,random_state=1,reg_alpha=1)\n",
    "xgc=create_model(xgc)"
   ]
  },
  {
   "cell_type": "code",
   "execution_count": 62,
   "metadata": {},
   "outputs": [],
   "source": [
    "# using xtreame boosting we got f1 score of 0=95% and 1=94%"
   ]
  },
  {
   "cell_type": "markdown",
   "metadata": {},
   "source": [
    "# Using KNN method"
   ]
  },
  {
   "cell_type": "code",
   "execution_count": 72,
   "metadata": {},
   "outputs": [],
   "source": [
    "from sklearn.neighbors import KNeighborsClassifier\n",
    "#create object of KNeighnors classifier\n",
    "knc=KNeighborsClassifier(n_neighbors=5,metric='minkowski',p=2)\n",
    "#p=2 means Eucidean distance method"
   ]
  },
  {
   "cell_type": "code",
   "execution_count": 73,
   "metadata": {},
   "outputs": [
    {
     "name": "stdout",
     "output_type": "stream",
     "text": [
      "              precision    recall  f1-score   support\n",
      "\n",
      "           0       0.91      0.96      0.94     22072\n",
      "           1       0.95      0.88      0.91     16892\n",
      "\n",
      "    accuracy                           0.93     38964\n",
      "   macro avg       0.93      0.92      0.93     38964\n",
      "weighted avg       0.93      0.93      0.93     38964\n",
      "\n",
      "[[21276   796]\n",
      " [ 2010 14882]]\n"
     ]
    }
   ],
   "source": [
    "#call function\n",
    "knc=create_model(knc)"
   ]
  },
  {
   "cell_type": "code",
   "execution_count": 74,
   "metadata": {},
   "outputs": [],
   "source": [
    "# using KNN we got f1 score of 0=95% and 1=94%"
   ]
  },
  {
   "cell_type": "markdown",
   "metadata": {},
   "source": [
    "# Using SVM algorithum"
   ]
  },
  {
   "cell_type": "code",
   "execution_count": 76,
   "metadata": {},
   "outputs": [],
   "source": [
    "from sklearn.svm import LinearSVC"
   ]
  },
  {
   "cell_type": "code",
   "execution_count": 77,
   "metadata": {},
   "outputs": [
    {
     "name": "stdout",
     "output_type": "stream",
     "text": [
      "              precision    recall  f1-score   support\n",
      "\n",
      "           0       0.87      0.91      0.89     22072\n",
      "           1       0.87      0.83      0.85     16892\n",
      "\n",
      "    accuracy                           0.87     38964\n",
      "   macro avg       0.87      0.87      0.87     38964\n",
      "weighted avg       0.87      0.87      0.87     38964\n",
      "\n",
      "[[20015  2057]\n",
      " [ 2880 14012]]\n"
     ]
    },
    {
     "name": "stderr",
     "output_type": "stream",
     "text": [
      "C:\\Users\\Shivraj\\anaconda3\\lib\\site-packages\\sklearn\\svm\\_base.py:1225: ConvergenceWarning: Liblinear failed to converge, increase the number of iterations.\n",
      "  warnings.warn(\n"
     ]
    }
   ],
   "source": [
    "# Create object of linearSVM class\n",
    "svc= LinearSVC(random_state=1)\n",
    "# we have not added any error for our outliers so we will get a line which will be called hard line\n",
    "# we call the function:\n",
    "svc = create_model(svc)"
   ]
  },
  {
   "cell_type": "code",
   "execution_count": 78,
   "metadata": {},
   "outputs": [],
   "source": [
    "#suppose outlier in our dataset means model is overfitted   \n",
    "#so reduce overfit column or remove outlier by adding eternal erro at training time\n",
    "#means again create object of class of  svc and pass charecter 'C' means error\n",
    "# the value of c can be <=1\n",
    "svc1=LinearSVC(random_state=1,C=0.9)# soft margine"
   ]
  },
  {
   "cell_type": "code",
   "execution_count": 79,
   "metadata": {},
   "outputs": [
    {
     "name": "stdout",
     "output_type": "stream",
     "text": [
      "              precision    recall  f1-score   support\n",
      "\n",
      "           0       0.87      0.91      0.89     22072\n",
      "           1       0.87      0.83      0.85     16892\n",
      "\n",
      "    accuracy                           0.87     38964\n",
      "   macro avg       0.87      0.87      0.87     38964\n",
      "weighted avg       0.87      0.87      0.87     38964\n",
      "\n",
      "[[20015  2057]\n",
      " [ 2880 14012]]\n"
     ]
    },
    {
     "name": "stderr",
     "output_type": "stream",
     "text": [
      "C:\\Users\\Shivraj\\anaconda3\\lib\\site-packages\\sklearn\\svm\\_base.py:1225: ConvergenceWarning: Liblinear failed to converge, increase the number of iterations.\n",
      "  warnings.warn(\n"
     ]
    }
   ],
   "source": [
    "svc1=create_model(svc1)"
   ]
  },
  {
   "cell_type": "code",
   "execution_count": 80,
   "metadata": {},
   "outputs": [],
   "source": [
    "# even after changing value oc 'c' we get same output \n",
    "#hence it is non linear dataset"
   ]
  },
  {
   "cell_type": "code",
   "execution_count": 81,
   "metadata": {},
   "outputs": [],
   "source": [
    "#polynomial kernal function\n",
    "from sklearn.svm import SVC"
   ]
  },
  {
   "cell_type": "code",
   "execution_count": 82,
   "metadata": {},
   "outputs": [],
   "source": [
    "poly_svc=SVC(random_state=1,kernel='poly')"
   ]
  },
  {
   "cell_type": "code",
   "execution_count": 84,
   "metadata": {},
   "outputs": [
    {
     "name": "stdout",
     "output_type": "stream",
     "text": [
      "              precision    recall  f1-score   support\n",
      "\n",
      "           0       0.93      0.96      0.95     22072\n",
      "           1       0.95      0.91      0.93     16892\n",
      "\n",
      "    accuracy                           0.94     38964\n",
      "   macro avg       0.94      0.94      0.94     38964\n",
      "weighted avg       0.94      0.94      0.94     38964\n",
      "\n",
      "[[21217   855]\n",
      " [ 1512 15380]]\n"
     ]
    }
   ],
   "source": [
    "poly_svc=create_model(poly_svc)"
   ]
  },
  {
   "cell_type": "code",
   "execution_count": 85,
   "metadata": {},
   "outputs": [],
   "source": [
    "#using radial function\n",
    "radial_svc=SVC(random_state=1,kernel='rbf')"
   ]
  },
  {
   "cell_type": "code",
   "execution_count": 86,
   "metadata": {},
   "outputs": [
    {
     "name": "stdout",
     "output_type": "stream",
     "text": [
      "              precision    recall  f1-score   support\n",
      "\n",
      "           0       0.95      0.97      0.96     22072\n",
      "           1       0.96      0.93      0.95     16892\n",
      "\n",
      "    accuracy                           0.95     38964\n",
      "   macro avg       0.96      0.95      0.95     38964\n",
      "weighted avg       0.95      0.95      0.95     38964\n",
      "\n",
      "[[21418   654]\n",
      " [ 1108 15784]]\n"
     ]
    }
   ],
   "source": [
    "radial_svc=create_model(radial_svc)"
   ]
  },
  {
   "cell_type": "code",
   "execution_count": 87,
   "metadata": {},
   "outputs": [],
   "source": [
    "# using SVM(radial svc) we got f1 score of 0=96% and 1=95%"
   ]
  },
  {
   "cell_type": "markdown",
   "metadata": {},
   "source": [
    "# Using Naive Bayes Theorem"
   ]
  },
  {
   "cell_type": "code",
   "execution_count": 119,
   "metadata": {},
   "outputs": [],
   "source": [
    "from sklearn.naive_bayes import GaussianNB\n",
    "# Creating the object of Gaussian Class\n",
    "gnb = GaussianNB()"
   ]
  },
  {
   "cell_type": "code",
   "execution_count": 120,
   "metadata": {},
   "outputs": [
    {
     "name": "stdout",
     "output_type": "stream",
     "text": [
      "              precision    recall  f1-score   support\n",
      "\n",
      "           0       0.86      0.90      0.88     22072\n",
      "           1       0.86      0.81      0.84     16892\n",
      "\n",
      "    accuracy                           0.86     38964\n",
      "   macro avg       0.86      0.86      0.86     38964\n",
      "weighted avg       0.86      0.86      0.86     38964\n",
      "\n",
      "[[19853  2219]\n",
      " [ 3165 13727]]\n"
     ]
    }
   ],
   "source": [
    "# Calling the function\n",
    "gnb = create_model(gnb)"
   ]
  },
  {
   "cell_type": "code",
   "execution_count": 121,
   "metadata": {},
   "outputs": [],
   "source": [
    "#with naive bayes we got  f1 score of 0=88% and 1=84%"
   ]
  },
  {
   "cell_type": "markdown",
   "metadata": {},
   "source": [
    "# Conclusion:\n",
    "We found that for this dataset Random Forest algo gives best f1 score ie 0=97% 1=96%"
   ]
  },
  {
   "cell_type": "code",
   "execution_count": null,
   "metadata": {},
   "outputs": [],
   "source": []
  }
 ],
 "metadata": {
  "kernelspec": {
   "display_name": "Python 3",
   "language": "python",
   "name": "python3"
  },
  "language_info": {
   "codemirror_mode": {
    "name": "ipython",
    "version": 3
   },
   "file_extension": ".py",
   "mimetype": "text/x-python",
   "name": "python",
   "nbconvert_exporter": "python",
   "pygments_lexer": "ipython3",
   "version": "3.8.5"
  }
 },
 "nbformat": 4,
 "nbformat_minor": 4
}
